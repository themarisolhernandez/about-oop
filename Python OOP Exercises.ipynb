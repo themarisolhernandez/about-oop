{
 "cells": [
  {
   "cell_type": "markdown",
   "metadata": {},
   "source": [
    "# Python Object-Oriented Programming (OOP) Exercise: Classes and Objects Exercises\n",
    "**What is included in this Python OOP exercise?**\n",
    "\n",
    "This OOP classes and objects exercise includes 8 different programs, questions, and challenges. \n",
    "\n",
    "This OOP exercise covers questions on the following **topics**:\n",
    "\n",
    "- Class and Object creation\n",
    "- Instance variables and Methods, and Class level attributes\n",
    "- Model systems with class inheritance i.e., inherit From Other Classes\n",
    "- Parent Classes and Child Classes\n",
    "- Extend the functionality of Parent Classes using Child class\n",
    "- Object checking\n",
    "\n",
    "## OOP Exercise 1: Create a Class with instance attributes\n",
    "\n",
    "Write a Python program to create a `Vehicle` class with `max_speed` and `mileage` instance attributes."
   ]
  },
  {
   "cell_type": "code",
   "execution_count": 1,
   "metadata": {},
   "outputs": [
    {
     "name": "stdout",
     "output_type": "stream",
     "text": [
      "240 18\n"
     ]
    }
   ],
   "source": [
    "class Vehicle:\n",
    "    def __init__(self, max_speed, mileage):\n",
    "        self.max_speed, self.mileage = max_speed, mileage\n",
    "\n",
    "tesla = Vehicle(240, 18)\n",
    "print(tesla.max_speed, tesla.mileage)"
   ]
  },
  {
   "cell_type": "markdown",
   "metadata": {},
   "source": [
    "## OOP Exercise 2: Create a `Vehicle` class without any variables and methods"
   ]
  },
  {
   "cell_type": "code",
   "execution_count": 2,
   "metadata": {},
   "outputs": [],
   "source": [
    "# Empty class\n",
    "class Vehicle:\n",
    "    pass"
   ]
  },
  {
   "cell_type": "markdown",
   "metadata": {},
   "source": [
    "## OOP Exercise 3: Create a child class `Bus` that will inherit all of the variables and methods of the `Vehicle` class\n",
    "Create a Bus object that will inherit all of the variables and methods of the parent Vehicle class and display it.\n",
    "\n",
    " **Expected Output**:\n",
    "\n",
    "        Vehicle Name: School Volvo Speed: 180 Mileage: 12"
   ]
  },
  {
   "cell_type": "code",
   "execution_count": 6,
   "metadata": {},
   "outputs": [
    {
     "name": "stdout",
     "output_type": "stream",
     "text": [
      "Vehicle Name: School Volvo Speed: 180 Mileage: 12\n"
     ]
    }
   ],
   "source": [
    "# Given\n",
    "class Vehicle:\n",
    "\n",
    "    def __init__(self, name, max_speed, mileage):\n",
    "        self.name = name\n",
    "        self.max_speed = max_speed\n",
    "        self.mileage = mileage\n",
    "\n",
    "# Child\n",
    "class Bus(Vehicle):\n",
    "    pass\n",
    "\n",
    "volvo = Bus('School Volvo', 180, 12)\n",
    "print(\"Vehicle Name:\", volvo.name, \"Speed:\", volvo.max_speed, \"Mileage:\", volvo.mileage)"
   ]
  },
  {
   "cell_type": "markdown",
   "metadata": {},
   "source": [
    "## OOP Exercise 4: Class Inheritance\n",
    "Create a `Bus` class that inherits from the `Vehicle` class. Give the capacity argument of `Bus.seating_capacity()` a default value of `50`.\n",
    "\n",
    "**Expected output:**\n",
    "\n",
    "        The seating capacity of a bus is 50 passengers"
   ]
  },
  {
   "cell_type": "code",
   "execution_count": 7,
   "metadata": {},
   "outputs": [
    {
     "data": {
      "text/plain": [
       "'The seating capacity of a bus is 50 passengers'"
      ]
     },
     "execution_count": 7,
     "metadata": {},
     "output_type": "execute_result"
    }
   ],
   "source": [
    "# Given\n",
    "class Vehicle:\n",
    "    def __init__(self, name, max_speed, mileage):\n",
    "        self.name = name\n",
    "        self.max_speed = max_speed\n",
    "        self.mileage = mileage\n",
    "\n",
    "    def seating_capacity(self, capacity):\n",
    "        return f\"The seating capacity of a {self.name} is {capacity} passengers\"\n",
    "\n",
    "# Child\n",
    "class Bus(Vehicle):\n",
    "    def seating_capacity(self, capacity=50):\n",
    "        return f\"The seating capacity of a {self.name} is {capacity} passengers\"\n",
    "\n",
    "SchoolBus = Bus('bus', 50, 15)\n",
    "SchoolBus.seating_capacity()"
   ]
  },
  {
   "cell_type": "markdown",
   "metadata": {},
   "source": [
    "# OOP Exercise 5: Define a property that must have the same value for every class instance (object)\n",
    "\n",
    "Define a class attribute `color` with a default value `white`. I.e., Every `Vehicle` should be white.\n",
    "\n",
    "**Expected output**:\n",
    "\n",
    "        Color: White, Vehicle name: School Volvo, Speed: 180, Mileage: 12\n",
    "        Color: White, Vehicle name: Audi Q5, Speed: 240, Mileage: 18\n"
   ]
  },
  {
   "cell_type": "code",
   "execution_count": 9,
   "metadata": {},
   "outputs": [
    {
     "name": "stdout",
     "output_type": "stream",
     "text": [
      "Color: White Vehicle name: School Volvo Speed: 180 Mileage: 12\n",
      "Color: White Vehicle name: Audi Q5 Speed: 240 Mileage: 18\n"
     ]
    }
   ],
   "source": [
    "class Vehicle:\n",
    "    # Class attribute\n",
    "    color = 'White'\n",
    "\n",
    "    def __init__(self, name, max_speed, mileage):\n",
    "        self.name = name\n",
    "        self.max_speed = max_speed\n",
    "        self.mileage = mileage\n",
    "\n",
    "class Bus(Vehicle):\n",
    "    pass\n",
    "\n",
    "class Car(Vehicle):\n",
    "    pass\n",
    "\n",
    "volvo = Vehicle('School Volvo', 180, 12)\n",
    "audi = Vehicle('Audi Q5', 240, 18)\n",
    "\n",
    "print('Color:', volvo.color, 'Vehicle name:', volvo.name, 'Speed:', volvo.max_speed, 'Mileage:', volvo.mileage)\n",
    "print('Color:', audi.color, 'Vehicle name:', audi.name, 'Speed:', audi.max_speed, 'Mileage:', audi.mileage)"
   ]
  },
  {
   "cell_type": "markdown",
   "metadata": {},
   "source": [
    "## OOP Exercise 6: Class Inheritance\n",
    "\n",
    "Given:\n",
    "\n",
    "Create a `Bus` child class that inherits from the `Vehicle` class. The default fare charge of any vehicle is `seating capacity * 100`. If `Vehicle` is `Bus` instance, we need to add an extra 10% on full fare as a maintenance charge. So total fare for bus instance will become the `final amount = total fare + 10% of the total fare`.\n",
    "\n",
    "Note: The bus seating capacity is `50`. so the final fare amount should be `5500`. You need to override the `fare()` method of a `Vehicle` class in `Bus` class.\n",
    "\n",
    "**Expected Output:**\n",
    "\n",
    "                Total Bus fare is: 5500.0\n"
   ]
  },
  {
   "cell_type": "code",
   "execution_count": 2,
   "metadata": {},
   "outputs": [
    {
     "name": "stdout",
     "output_type": "stream",
     "text": [
      "Total Bus fare is: 5500.0\n"
     ]
    }
   ],
   "source": [
    "class Vehicle:\n",
    "    def __init__(self, name, mileage, capacity):\n",
    "        self.name = name\n",
    "        self.mileage = mileage\n",
    "        self.capacity = capacity\n",
    "\n",
    "    def fare(self):\n",
    "        return self.capacity * 100\n",
    "\n",
    "class Bus(Vehicle):\n",
    "    def fare(self):\n",
    "        return (self.capacity * 100) + (0.1 * self.capacity * 100)\n",
    "\n",
    "School_bus = Bus(\"School Volvo\", 12, 50)\n",
    "print(\"Total Bus fare is:\", School_bus.fare())"
   ]
  },
  {
   "cell_type": "markdown",
   "metadata": {},
   "source": [
    "## OOP Exercise 7: Check type of an object\n",
    "\n",
    "Write a program to determine which class a given `Bus` object belongs to."
   ]
  },
  {
   "cell_type": "code",
   "execution_count": 3,
   "metadata": {},
   "outputs": [
    {
     "data": {
      "text/plain": [
       "__main__.Bus"
      ]
     },
     "execution_count": 3,
     "metadata": {},
     "output_type": "execute_result"
    }
   ],
   "source": [
    "class Vehicle:\n",
    "    def __init__(self, name, mileage, capacity):\n",
    "        self.name = name\n",
    "        self.mileage = mileage\n",
    "        self.capacity = capacity\n",
    "\n",
    "class Bus(Vehicle):\n",
    "    pass\n",
    "\n",
    "School_bus = Bus(\"School Volvo\", 12, 50)\n",
    "type(School_bus)"
   ]
  },
  {
   "cell_type": "markdown",
   "metadata": {},
   "source": [
    "## OOP Exercise 8: Determine if `School_bus` is also an instance of the `Vehicle` class"
   ]
  },
  {
   "cell_type": "code",
   "execution_count": 4,
   "metadata": {},
   "outputs": [
    {
     "name": "stdout",
     "output_type": "stream",
     "text": [
      "True\n"
     ]
    }
   ],
   "source": [
    "class Vehicle:\n",
    "    def __init__(self, name, mileage, capacity):\n",
    "        self.name = name\n",
    "        self.mileage = mileage\n",
    "        self.capacity = capacity\n",
    "\n",
    "class Bus(Vehicle):\n",
    "    pass\n",
    "\n",
    "School_bus = Bus(\"School Volvo\", 12, 50)\n",
    "# Python's built-in isinstance() function\n",
    "print(isinstance(School_bus, Vehicle))"
   ]
  }
 ],
 "metadata": {
  "kernelspec": {
   "display_name": "Python 3.9.13 64-bit",
   "language": "python",
   "name": "python3"
  },
  "language_info": {
   "codemirror_mode": {
    "name": "ipython",
    "version": 3
   },
   "file_extension": ".py",
   "mimetype": "text/x-python",
   "name": "python",
   "nbconvert_exporter": "python",
   "pygments_lexer": "ipython3",
   "version": "3.9.13"
  },
  "orig_nbformat": 4,
  "vscode": {
   "interpreter": {
    "hash": "b0fa6594d8f4cbf19f97940f81e996739fb7646882a419484c72d19e05852a7e"
   }
  }
 },
 "nbformat": 4,
 "nbformat_minor": 2
}
